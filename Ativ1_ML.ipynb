{
  "nbformat": 4,
  "nbformat_minor": 0,
  "metadata": {
    "colab": {
      "provenance": [],
      "authorship_tag": "ABX9TyMJuObbLcymtuPBUAtvv5Hb",
      "include_colab_link": true
    },
    "kernelspec": {
      "name": "python3",
      "display_name": "Python 3"
    },
    "language_info": {
      "name": "python"
    }
  },
  "cells": [
    {
      "cell_type": "markdown",
      "metadata": {
        "id": "view-in-github",
        "colab_type": "text"
      },
      "source": [
        "<a href=\"https://colab.research.google.com/github/TatianeIvanof/Machine-Learning/blob/main/Ativ1_ML.ipynb\" target=\"_parent\"><img src=\"https://colab.research.google.com/assets/colab-badge.svg\" alt=\"Open In Colab\"/></a>"
      ]
    },
    {
      "cell_type": "markdown",
      "source": [
        "1. Escreva uma função que receba uma lista de números e retorne outra lista com os números primos presentes."
      ],
      "metadata": {
        "id": "6LFWJnqqqvYi"
      }
    },
    {
      "cell_type": "code",
      "source": [
        "numeros = []\n",
        "def l_primos(x):\n",
        "    for i in range(1, x):\n",
        "        div = 0\n",
        "        for n in range(1, i+1):\n",
        "             if(i%n == 0):\n",
        "                 div = div + 1\n",
        "        if (div == 2):\n",
        "          numeros.append(i)\n",
        "    print(numeros)\n",
        "l_primos(15)"
      ],
      "metadata": {
        "colab": {
          "base_uri": "https://localhost:8080/"
        },
        "id": "dC7mcjKWutft",
        "outputId": "fbf94e77-067d-44bb-d937-a91c1a17c381"
      },
      "execution_count": null,
      "outputs": [
        {
          "output_type": "stream",
          "name": "stdout",
          "text": [
            "[2, 3, 5, 7, 11, 13]\n"
          ]
        }
      ]
    },
    {
      "cell_type": "markdown",
      "source": [
        "2. Escreva uma função que receba duas listas e retorne outra lista com os elementos que estão presentes em apenas uma das listas."
      ],
      "metadata": {
        "id": "07KlfSe0q1OA"
      }
    },
    {
      "cell_type": "code",
      "source": [
        "a = ['Amora', 'Abacate', 'Maça', 'Uva', 'Limão', 'Mamão', 'Morango', 'Pera']\n",
        "b = ['Caqui', 'Morango','Pera', 'Amora', 'Abacate', 'Laranja']\n",
        "\n",
        "def frutas(a,b):\n",
        "    a_b = a+b\n",
        "    diferentes = []\n",
        "    for f in a_b:\n",
        "        if f not in a or f not in b:\n",
        "            diferentes.append(f)\n",
        "    return diferentes\n",
        "\n",
        "frutas(a,b)\n",
        "\n"
      ],
      "metadata": {
        "id": "4_4zGrlRq7k-",
        "colab": {
          "base_uri": "https://localhost:8080/"
        },
        "outputId": "c8227f04-3e74-4e13-9420-72d679bb7bc6"
      },
      "execution_count": null,
      "outputs": [
        {
          "output_type": "execute_result",
          "data": {
            "text/plain": [
              "['Maça', 'Uva', 'Limão', 'Mamão', 'Caqui', 'Laranja']"
            ]
          },
          "metadata": {},
          "execution_count": 110
        }
      ]
    },
    {
      "cell_type": "markdown",
      "source": [
        "3. Dada uma lista de números inteiros, escreva uma função para encontrar o segundo maior valor na lista."
      ],
      "metadata": {
        "id": "dQJ9gqIxq8Fa"
      }
    },
    {
      "cell_type": "code",
      "source": [
        "list_i = [1,61,2,76,3,4,89,15,100,16,18,22,24,23,92,32,35,40,41,50,51,60]\n",
        "list_ord = sorted(list_i)\n",
        "\n",
        "print(list_ord[-2])\n",
        "\n"
      ],
      "metadata": {
        "id": "z8bXH4Naq_Y5",
        "colab": {
          "base_uri": "https://localhost:8080/"
        },
        "outputId": "4ab69a25-9960-45fa-86f5-c2cf700eba45"
      },
      "execution_count": null,
      "outputs": [
        {
          "output_type": "stream",
          "name": "stdout",
          "text": [
            "92\n"
          ]
        }
      ]
    },
    {
      "cell_type": "markdown",
      "source": [
        "4. Crie uma função que receba uma lista de tuplas, cada uma contendo o nome e a idade de uma pessoa, e retorne a lista ordenada pelo nome das pessoas em ordem alfabética."
      ],
      "metadata": {
        "id": "fUwGym-7q_9p"
      }
    },
    {
      "cell_type": "code",
      "source": [
        "dados = (['Karina', 18], ['Jose', 50], ['Marcio', 25])\n",
        "for d in sorted(list(dados)):\n",
        "  print(d)\n"
      ],
      "metadata": {
        "id": "nAVMdQHprDO_",
        "colab": {
          "base_uri": "https://localhost:8080/"
        },
        "outputId": "8bb3d32b-f373-4b51-84bd-64e92afa1dbd"
      },
      "execution_count": null,
      "outputs": [
        {
          "output_type": "stream",
          "name": "stdout",
          "text": [
            "['Jose', 50]\n",
            "['Karina', 18]\n",
            "['Marcio', 25]\n"
          ]
        }
      ]
    },
    {
      "cell_type": "markdown",
      "source": [
        "5. Dada uma lista contendo números inteiros, como você encontraria o maior número e o menor número dessa lista em uma única passagem?"
      ],
      "metadata": {
        "id": "6s3kevJErHZG"
      }
    },
    {
      "cell_type": "code",
      "source": [
        "list_i = [1,61,2,76,3,4,89,15,100,16,18,22,24,23,92,32,35,40,41,50,51,60]\n",
        "\n",
        "max_val = max(list_i)\n",
        "min_val = min(list_i)\n",
        "\n",
        "print(max_val, min_val)\n",
        "\n"
      ],
      "metadata": {
        "id": "lkpD6c-mrIGq",
        "colab": {
          "base_uri": "https://localhost:8080/"
        },
        "outputId": "ba3decc2-46f7-4e1c-a01a-d411941fc254"
      },
      "execution_count": null,
      "outputs": [
        {
          "output_type": "stream",
          "name": "stdout",
          "text": [
            "100 1\n"
          ]
        }
      ]
    },
    {
      "cell_type": "markdown",
      "source": [
        "6. Utilizando pandas, como realizar a leitura de um arquivo CSV em um DataFrame e exibir as primeiras linhas?"
      ],
      "metadata": {
        "id": "HBTvkjmArIsL"
      }
    },
    {
      "cell_type": "code",
      "source": [
        "df = pd.read_csv(\"/content/Unimed /Gapminder.csv\") #leitura\n",
        "df.head() #exibir primeiras linhas"
      ],
      "metadata": {
        "id": "qHchsmQRrOpq"
      },
      "execution_count": null,
      "outputs": []
    },
    {
      "cell_type": "markdown",
      "source": [
        "7. Utilizando pandas, como selecionar uma coluna específica e filtrar linhas em um “DataFrame” com base em uma condição?"
      ],
      "metadata": {
        "id": "q0RrIJJdrP_D"
      }
    },
    {
      "cell_type": "code",
      "source": [
        "Gapminder['População Total'] > 35 #filtrar linhas\n",
        "pop_pais = Gapminder[['População Total','Pais']] # colunas específicas\n"
      ],
      "metadata": {
        "id": "k01HJ-_nrSOo"
      },
      "execution_count": null,
      "outputs": []
    },
    {
      "cell_type": "markdown",
      "source": [
        "8. Utilizando pandas, como lidar com valores ausentes (NaN) em um DataFrame?"
      ],
      "metadata": {
        "id": "UulLK3GMrSaG"
      }
    },
    {
      "cell_type": "code",
      "source": [
        "valores_ausentes = df.isna()"
      ],
      "metadata": {
        "id": "syh_Zt6TrXkO"
      },
      "execution_count": null,
      "outputs": []
    },
    {
      "cell_type": "code",
      "source": [],
      "metadata": {
        "id": "f0xj96CO8G3R"
      },
      "execution_count": null,
      "outputs": []
    },
    {
      "cell_type": "markdown",
      "source": [
        "9. Complete o código:\n",
        "\n",
        "\n",
        "import __________.pyplot as plt\n",
        "\n",
        "import numpy as ___\n",
        "\n",
        "\n",
        "fig, axs = plt.subplots(ncols=2, nrows=2, figsize=(5.5, 3.5),       layout=\"constrained\")\n",
        "\n",
        "for ___ in range(2):\n",
        "\n",
        "for ___ in range(2):\n",
        "\n",
        "axs[row, col].annotate(f'axs[{row}, {col}]', (0.5, 0.5),\n",
        "\n",
        "transform=axs[row, col].transAxes,\n",
        "\n",
        "ha='center', va='center', ________=18, color='darkgrey')\n",
        "\n",
        "fig.suptitle('__.subplots()')"
      ],
      "metadata": {
        "id": "B4yR37hOrckw"
      }
    },
    {
      "cell_type": "code",
      "source": [
        "import matplotlib.pyplot as plt\n",
        "import numpy as np\n",
        "\n",
        "fig, axs = plt.subplots(ncols=2, nrows=2, figsize=(5.5, 3.5), layout=\"constrained\")\n",
        "\n",
        "for row in range(2):\n",
        "    for col in range(2):\n",
        "        axs[row, col].annotate(f'axs[{row}, {col}]', (0.5, 0.5),\n",
        "                               transform=axs[row, col].transAxes,\n",
        "                               ha='center', va='center', targets=18, color='darkgrey')\n",
        "\n",
        "fig.suptitle('plt.subplots()')\n"
      ],
      "metadata": {
        "id": "4KMcMcPssU2a"
      },
      "execution_count": null,
      "outputs": []
    },
    {
      "cell_type": "markdown",
      "source": [
        "10. Complete o código:\n",
        "\n",
        "\n",
        "import numpy as np\n",
        "\n",
        "import __________ as mpl\n",
        "\n",
        "import __________.______ as plt\n",
        "\n",
        "\n",
        "x = np.________(-2 * np.pi, 2 * np.pi, 100)\n",
        "\n",
        "y = np.____(x)\n",
        "\n",
        "\n",
        "__, __ = plt.subplots()\n",
        "\n",
        "ax.____(_, _)"
      ],
      "metadata": {
        "id": "gMLRE3MfsVR2"
      }
    },
    {
      "cell_type": "code",
      "source": [
        "import numpy as np\n",
        "import matplotlib.pyplot as plt\n",
        "\n",
        "x = np.linspace(-2 * np.pi, 2 * np.pi, 100)\n",
        "y = np.abs(x)\n",
        "\n",
        "fig, ax = plt.subplots()\n",
        "\n",
        "ax.scatter(x, y)\n",
        "\n",
        "plt.show()"
      ],
      "metadata": {
        "id": "4S4Me49PsZjm"
      },
      "execution_count": null,
      "outputs": []
    }
  ]
}